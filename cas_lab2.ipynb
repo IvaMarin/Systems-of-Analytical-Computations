{
 "cells": [
  {
   "cell_type": "markdown",
   "metadata": {},
   "source": [
    "<h1>Лабораторная работа 2.</h1>\n",
    "<h2>Часть 1. Метод дихотомии. Метод Ньютона.</h2>\n",
    "<h2>Вариант А.</h2>"
   ]
  },
  {
   "cell_type": "code",
   "execution_count": 1,
   "metadata": {},
   "outputs": [],
   "source": [
    "var('x')\n",
    "f(x) = x^3 - 9*x^2 + 23*x - 15"
   ]
  },
  {
   "cell_type": "code",
   "execution_count": 2,
   "metadata": {},
   "outputs": [
    {
     "data": {
      "text/html": [
       "<html><script type=\"math/tex; mode=display\">\\newcommand{\\Bold}[1]{\\mathbf{#1}}\\verb|Задана|\\phantom{\\verb!x!}\\verb|функция:\t| x^{3} - 9 \\, x^{2} + 23 \\, x - 15</script></html>"
      ],
      "text/latex": [
       "\\begin{math}\n",
       "\\newcommand{\\Bold}[1]{\\mathbf{#1}}\\verb|Задана|\\phantom{\\verb!x!}\\verb|функция:\t| x^{3} - 9 \\, x^{2} + 23 \\, x - 15\n",
       "\\end{math}"
      ],
      "text/plain": [
       "'Задана функция:\\t' x^3 - 9*x^2 + 23*x - 15"
      ]
     },
     "metadata": {},
     "output_type": "display_data"
    }
   ],
   "source": [
    "show(\"Задана функция:\t\", f(x))"
   ]
  },
  {
   "cell_type": "code",
   "execution_count": 3,
   "metadata": {},
   "outputs": [
    {
     "data": {
      "image/png": "[encoded data removed]",
      "text/plain": [
       "Graphics object consisting of 1 graphics primitive"
      ]
     },
     "metadata": {},
     "output_type": "display_data"
    }
   ],
   "source": [
    "xmin, xmax = 0, 10\n",
    "graphic = plot(f, (x, xmin, xmax), ymin = -10, ymax = 10)\n",
    "show(graphic)"
   ]
  },
  {
   "cell_type": "code",
   "execution_count": 4,
   "metadata": {},
   "outputs": [],
   "source": [
    "# Функция вычисляющая методом дихотомии точку пересечения с осью Ox\n",
    "def dichotomy(f, a, b, eps=1e-5):\n",
    "    if f(x = a) * f(x = b) > 0:\n",
    "        return None\n",
    "    median = (a + b) / 2.0\n",
    "    if abs(f(x = median).n()) < eps:\n",
    "        return median\n",
    "    if f(x = median) * f(x = a) < 0:\n",
    "        return dichotomy(f, a, median)\n",
    "    else:\n",
    "        return dichotomy(f, median, b)"
   ]
  },
  {
   "cell_type": "code",
   "execution_count": 5,
   "metadata": {},
   "outputs": [],
   "source": [
    "# Функция вычисляющая методом Ньютона точку пересечения с осью Ox\n",
    "def newton(f, a, b, eps=1e-5):\n",
    "    x1 = a\n",
    "    x2 = (a + b) / 2\n",
    "    df = f.derivative()\n",
    "    while abs(x2 - x1) >= eps:\n",
    "        x1 = x2\n",
    "        x2 = x1 - f(x = x1) / df(x = x1)\n",
    "    if abs(f(x = x1)) <= eps:\n",
    "        return x1\n",
    "    else:\n",
    "        return None"
   ]
  },
  {
   "cell_type": "code",
   "execution_count": 6,
   "metadata": {},
   "outputs": [],
   "source": [
    "# Значения которые будут доступны для интерактивного взаимодействия\n",
    "a = (0, 2, 0.5)\n",
    "b = (0, 2, 0.5)\n",
    "step = (1, 2, 1)"
   ]
  },
  {
   "cell_type": "code",
   "execution_count": 7,
   "metadata": {},
   "outputs": [
    {
     "data": {
      "application/vnd.jupyter.widget-view+json": {
       "model_id": "5a1bfed6970445e18d5842f29d730400",
       "version_major": 2,
       "version_minor": 0
      },
      "text/plain": [
       "Interactive function <function interactive_functions at 0x6fff63ddf680> with 3 widgets\n",
       "  a: FloatSlider(value=…"
      ]
     },
     "metadata": {},
     "output_type": "display_data"
    }
   ],
   "source": [
    "@interact\n",
    "def interactive_functions(a = a, b = b, step = step):\n",
    "    xmin = -2\n",
    "    xmax = 8\n",
    "    ymin = -5\n",
    "    ymax = 7\n",
    "    eps = 1e-5\n",
    "    \n",
    "    # Найдем значения корней методом дихотомии\n",
    "    dich = [dichotomy(f, a, b, eps)]\n",
    "    dich.append(dichotomy(f, a + step, b + step, eps))\n",
    "    dich.append(dichotomy(f, a + 2 * step, b + 2 * step, eps))\n",
    "    \n",
    "    # Найдем значения корней методом Ньютона\n",
    "    newt = [newton(f, a, b, eps)]\n",
    "    newt.append(newton(f, a + step, b + step, eps))\n",
    "    newt.append(newton(f, a + 2 * step, b + 2 * step, eps))\n",
    "    \n",
    "    \n",
    "    # Три графика методом дихотомии\n",
    "    gr = [plot(f, (x, xmin, xmax), ymin=ymin, ymax=ymax, aspect_ratio=1, figsize=[3,2], color='purple')]*3\n",
    "    # Три графика методом Ньютона\n",
    "    gr.extend([plot(f, (x, xmin, xmax), ymin=ymin, ymax=ymax, aspect_ratio=1, figsize=[3,2], color='blue')]*3)\n",
    "    \n",
    "    for i in range(len(gr)):\n",
    "        if i <= 2 and dich[i] is not None:\n",
    "            gr[i] += point((float(dich[i]), 0), color='black', aspect_ratio=1, size=30)\n",
    "        if i > 2 and newt[i-3] is not None:\n",
    "            gr[i] += point((float(newt[i-3]), 0), color='black', aspect_ratio=1, size=30)\n",
    "    \n",
    "    # Выведем массив графиков на один холст\n",
    "    graphics_array([[gr[0], gr[1], gr[2]], [gr[3], gr[4], gr[5]]]).show(frame=True)\n",
    "    \n",
    "    #Печать на экран значений корней\n",
    "    roots_str = \"Корни полученные методом дихотомии: \"\n",
    "    for d in dich:\n",
    "        if d is not None:\n",
    "            roots_str += \"{0:.1}\".format(d) + \" \"\n",
    "    roots_str += \"\\nКорни полученные методом Ньютона: \"\n",
    "    for n in newt:\n",
    "        if n is not None:\n",
    "            roots_str += str(round(float(n))) + \" \"\n",
    "    print(roots_str)"
   ]
  },
  {
   "cell_type": "code",
   "execution_count": 8,
   "metadata": {},
   "outputs": [
    {
     "data": {
      "text/html": [
       "<html><script type=\"math/tex; mode=display\">\\newcommand{\\Bold}[1]{\\mathbf{#1}}\\verb|Корни,|\\phantom{\\verb!x!}\\verb|полученные|\\phantom{\\verb!x!}\\verb|при|\\phantom{\\verb!x!}\\verb|помощи|\\phantom{\\verb!x!}\\verb|solve:| \\left[x = 1, x = 5, x = 3\\right]</script></html>"
      ],
      "text/latex": [
       "\\begin{math}\n",
       "\\newcommand{\\Bold}[1]{\\mathbf{#1}}\\verb|Корни,|\\phantom{\\verb!x!}\\verb|полученные|\\phantom{\\verb!x!}\\verb|при|\\phantom{\\verb!x!}\\verb|помощи|\\phantom{\\verb!x!}\\verb|solve:| \\left[x = 1, x = 5, x = 3\\right]\n",
       "\\end{math}"
      ],
      "text/plain": [
       "'Корни, полученные при помощи solve: ' [x == 1, x == 5, x == 3]"
      ]
     },
     "metadata": {},
     "output_type": "display_data"
    }
   ],
   "source": [
    "# Результат полученный функцией solve\n",
    "roots_by_solve = solve(f, x)\n",
    "show(\"Корни, полученные при помощи solve: \", roots_by_solve)"
   ]
  },
  {
   "cell_type": "markdown",
   "metadata": {},
   "source": [
    "Как можно заметить результат полученный методом дихотомии и Ньютона<br>\n",
    "совпадает с результатом solve для каждого корня при правильном выборе границ a, b и шага step.<br>\n",
    "Например при a = 0.5, b = 1.5, step = 2.<br>"
   ]
  },
  {
   "cell_type": "markdown",
   "metadata": {},
   "source": [
    "<h2>Часть 2. Полиномы и gcd. Алгоритм Евклида. Тождество Безу.</h2>\n",
    "<h2>Вариант 5.</h2>"
   ]
  },
  {
   "cell_type": "code",
   "execution_count": 9,
   "metadata": {},
   "outputs": [
    {
     "data": {
      "text/html": [
       "<html><script type=\"math/tex; mode=display\">\\newcommand{\\Bold}[1]{\\mathbf{#1}}\\verb|f|\\phantom{\\verb!x!}\\verb|=\t| 12 x^{7} - 168 x^{5} + 288 x^{3} + 324 x</script></html>"
      ],
      "text/latex": [
       "\\begin{math}\n",
       "\\newcommand{\\Bold}[1]{\\mathbf{#1}}\\verb|f|\\phantom{\\verb!x!}\\verb|=\t| 12 x^{7} - 168 x^{5} + 288 x^{3} + 324 x\n",
       "\\end{math}"
      ],
      "text/plain": [
       "'f =\\t' 12*x^7 - 168*x^5 + 288*x^3 + 324*x"
      ]
     },
     "metadata": {},
     "output_type": "display_data"
    },
    {
     "data": {
      "text/html": [
       "<html><script type=\"math/tex; mode=display\">\\newcommand{\\Bold}[1]{\\mathbf{#1}}\\verb|g|\\phantom{\\verb!x!}\\verb|=\t| 4 x^{6} - 28 x^{4} + 20 x^{3} + 48 x^{2} - 60 x</script></html>"
      ],
      "text/latex": [
       "\\begin{math}\n",
       "\\newcommand{\\Bold}[1]{\\mathbf{#1}}\\verb|g|\\phantom{\\verb!x!}\\verb|=\t| 4 x^{6} - 28 x^{4} + 20 x^{3} + 48 x^{2} - 60 x\n",
       "\\end{math}"
      ],
      "text/plain": [
       "'g =\\t' 4*x^6 - 28*x^4 + 20*x^3 + 48*x^2 - 60*x"
      ]
     },
     "metadata": {},
     "output_type": "display_data"
    },
    {
     "name": "stdout",
     "output_type": "stream",
     "text": [
      "НОД = x^3 - 3*x\n"
     ]
    }
   ],
   "source": [
    "R.<x> = PolynomialRing(QQ) # Будем работать в кольце рациональных чисел\n",
    "f = 12*x^7 - 168*x^5 + 288*x^3 + 324*x\n",
    "g = 4*x^6 - 28*x^4 + 20*x^3 + 48*x^2 - 60*x\n",
    "show(\"f =\t\", f)\n",
    "show(\"g =\t\", g)\n",
    "# Найдем НОД при помощи встроенной функции gcd()\n",
    "res_gcd = gcd(f, g)\n",
    "print(\"НОД =\", str(res_gcd))"
   ]
  },
  {
   "cell_type": "code",
   "execution_count": 10,
   "metadata": {},
   "outputs": [],
   "source": [
    "# Функция вычисления коэффициентов тождества Безу и gcd(a,b)\n",
    "def bezout(a, b):\n",
    "    x, xx, y, yy = 1, 0, 0, 1\n",
    "    while b:\n",
    "        quotient = a // b\n",
    "        residue = a % b\n",
    "        a = b\n",
    "        b = residue\n",
    "        x, xx = xx, x - xx * quotient\n",
    "        y, yy = yy, y - yy * quotient\n",
    "    return (x, y, a)"
   ]
  },
  {
   "cell_type": "code",
   "execution_count": 11,
   "metadata": {},
   "outputs": [],
   "source": [
    "# Результат в виде tuple трех элементов u, v, gcd(a,b)\n",
    "bez = bezout(f, g)"
   ]
  },
  {
   "cell_type": "code",
   "execution_count": 12,
   "metadata": {},
   "outputs": [
    {
     "name": "stdout",
     "output_type": "stream",
     "text": [
      "НОД = -1420804/4563*x^3 + 1420804/1521*x\n"
     ]
    }
   ],
   "source": [
    "# Получили gcd(a, b) - левую часть тождества\n",
    "print(\"НОД =\", f * bez[0] + bez[1] * g)"
   ]
  },
  {
   "cell_type": "code",
   "execution_count": 13,
   "metadata": {},
   "outputs": [
    {
     "name": "stdout",
     "output_type": "stream",
     "text": [
      "НОД = -1420804/4563*x^3 + 1420804/1521*x\n"
     ]
    }
   ],
   "source": [
    "# Получили gcd(a,b) - правую часть тождества\n",
    "print(\"НОД =\", bez[2])"
   ]
  },
  {
   "cell_type": "code",
   "execution_count": 14,
   "metadata": {},
   "outputs": [
    {
     "name": "stdout",
     "output_type": "stream",
     "text": [
      "Тождество Безу выполняется.\n"
     ]
    }
   ],
   "source": [
    "# Проверим тождество Безу f*u + v*g = gcd(f, g)\n",
    "if (f * bez[0] + bez[1] * g) - bez[2] == 0:\n",
    "    print(\"Тождество Безу выполняется.\")\n",
    "else:\n",
    "    print(\"Тождество Безу не выполняется.\")"
   ]
  },
  {
   "cell_type": "code",
   "execution_count": 15,
   "metadata": {},
   "outputs": [
    {
     "data": {
      "text/html": [
       "<html><script type=\"math/tex; mode=display\">\\newcommand{\\Bold}[1]{\\mathbf{#1}}\\verb|gcd,|\\phantom{\\verb!x!}\\verb|полученный|\\phantom{\\verb!x!}\\verb|при|\\phantom{\\verb!x!}\\verb|помощи|\\phantom{\\verb!x!}\\verb|функции|\\phantom{\\verb!x!}\\verb|gcd():| -\\frac{1}{3} x^{3} + x</script></html>"
      ],
      "text/latex": [
       "\\begin{math}\n",
       "\\newcommand{\\Bold}[1]{\\mathbf{#1}}\\verb|gcd,|\\phantom{\\verb!x!}\\verb|полученный|\\phantom{\\verb!x!}\\verb|при|\\phantom{\\verb!x!}\\verb|помощи|\\phantom{\\verb!x!}\\verb|функции|\\phantom{\\verb!x!}\\verb|gcd():| -\\frac{1}{3} x^{3} + x\n",
       "\\end{math}"
      ],
      "text/plain": [
       "'gcd, полученный при помощи функции gcd(): ' -1/3*x^3 + x"
      ]
     },
     "metadata": {},
     "output_type": "display_data"
    },
    {
     "data": {
      "text/html": [
       "<html><script type=\"math/tex; mode=display\">\\newcommand{\\Bold}[1]{\\mathbf{#1}}\\verb|gcd,|\\phantom{\\verb!x!}\\verb|полученный|\\phantom{\\verb!x!}\\verb|при|\\phantom{\\verb!x!}\\verb|помощи|\\phantom{\\verb!x!}\\verb|тождества|\\phantom{\\verb!x!}\\verb|Безу:| -\\frac{1}{3} x^{3} + x</script></html>"
      ],
      "text/latex": [
       "\\begin{math}\n",
       "\\newcommand{\\Bold}[1]{\\mathbf{#1}}\\verb|gcd,|\\phantom{\\verb!x!}\\verb|полученный|\\phantom{\\verb!x!}\\verb|при|\\phantom{\\verb!x!}\\verb|помощи|\\phantom{\\verb!x!}\\verb|тождества|\\phantom{\\verb!x!}\\verb|Безу:| -\\frac{1}{3} x^{3} + x\n",
       "\\end{math}"
      ],
      "text/plain": [
       "'gcd, полученный при помощи тождества Безу: ' -1/3*x^3 + x"
      ]
     },
     "metadata": {},
     "output_type": "display_data"
    }
   ],
   "source": [
    "gcd_coef = res_gcd.coefficients()[0]\n",
    "show(\"gcd, полученный при помощи функции gcd(): \", res_gcd / gcd_coef)\n",
    "bez_coef = bez[2].coefficients()[0]\n",
    "show(\"gcd, полученный при помощи тождества Безу: \", bez[2] / bez_coef)"
   ]
  },
  {
   "cell_type": "markdown",
   "metadata": {},
   "source": [
    "Полученный результат совпал с НОД, значит найденные коэффициенты верны. Алгоритм работает корректно.<br>"
   ]
  },
  {
   "cell_type": "markdown",
   "metadata": {},
   "source": [
    "<h2>Часть 3. Приведение поверхности второго порядка к каноническому виду.</h2>\n",
    "<h2>Вариант 10.</h2>\n",
    "<br />\n",
    "Решение см. в файле cas_lab2_part3.tex<br>"
   ]
  }
 ],
 "metadata": {
  "kernelspec": {
   "display_name": "SageMath 9.2",
   "language": "sage",
   "name": "sagemath"
  },
  "language_info": {
   "codemirror_mode": {
    "name": "ipython",
    "version": 3
   },
   "file_extension": ".py",
   "mimetype": "text/x-python",
   "name": "python",
   "nbconvert_exporter": "python",
   "pygments_lexer": "ipython3",
   "version": "3.7.7"
  }
 },
 "nbformat": 4,
 "nbformat_minor": 4
}
